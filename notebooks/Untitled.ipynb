{
 "cells": [
  {
   "cell_type": "code",
   "execution_count": 14,
   "metadata": {},
   "outputs": [],
   "source": [
    "import csv\n",
    "import re\n"
   ]
  },
  {
   "cell_type": "code",
   "execution_count": 15,
   "metadata": {},
   "outputs": [],
   "source": [
    "def isInteger(str):\n",
    "\ttry:\n",
    "\t\tnum = int(str)\n",
    "\texcept ValueError:\n",
    "\t\treturn False\n",
    "\treturn True\n"
   ]
  },
  {
   "cell_type": "code",
   "execution_count": 16,
   "metadata": {},
   "outputs": [],
   "source": [
    "def intValueOf(str):\n",
    "\tif isInteger(str):\n",
    "\t\treturn int(str)\n",
    "\telse:\n",
    "\t\treturn 0\n"
   ]
  },
  {
   "cell_type": "code",
   "execution_count": 17,
   "metadata": {},
   "outputs": [],
   "source": [
    "def percentage(big, small):\n",
    "\tif big != 0 and small != 0:\n",
    "\t\treturn small / big * 100\n",
    "\telse:\n",
    "\t\treturn \"NA\"\n"
   ]
  },
  {
   "cell_type": "code",
   "execution_count": 18,
   "metadata": {},
   "outputs": [],
   "source": [
    "with open('../data/HealthCare.csv', 'r') as healthCareCSV:\n",
    "    healthCareList = list(healthCareCSV)\n",
    "    headingRow = True\n",
    "    reducedCSVList = []\n",
    "    reducedCSVList.append(['State', 'District', 'Total number of Health Care Centres'])\n",
    "    for row in healthCareList:\n",
    "        if headingRow:\n",
    "            headingRow = False\n",
    "            continue\n",
    "        rowList = row.split(\",\")\n",
    "        \n",
    "        noOfSubCentres = intValueOf(rowList[2].strip())\n",
    "        noOfPrimaryCentres = intValueOf(rowList[3].strip())\n",
    "        noOfCommunityCentres = intValueOf(rowList[4].strip())\n",
    "       \tnoOfSubDivisional = intValueOf(rowList[5].strip())\n",
    "       \tnoOfDistrict = intValueOf(rowList[6].strip())\n",
    "       \ttotalHealthCareCentres = noOfDistrict + noOfSubDivisional + noOfCommunityCentres + noOfPrimaryCentres + noOfSubCentres\n",
    "       \t# removing special characters\n",
    "       \tstateClean = re.sub('\\W+',' ', rowList[0])\n",
    "       \tdistrictClean = re.sub('\\W+',' ', rowList[1])\n",
    "       \treducedCSVList.append([stateClean, districtClean, totalHealthCareCentres])\n",
    "\n",
    "    with open('../data/healthCleanReduced.csv', 'w') as healthCleanReduced:\n",
    "    \twriter = csv.writer(healthCleanReduced)\n",
    "    \twriter.writerows(reducedCSVList)\n"
   ]
  },
  {
   "cell_type": "code",
   "execution_count": 19,
   "metadata": {},
   "outputs": [],
   "source": [
    "with open('../data/healthCleanReduced.csv', 'r') as healthCareReducedCSV:\n",
    "\thealthCareReducedList = list(healthCareReducedCSV)\n",
    "\twith open('../data/habitation_reduced.csv', 'r') as habitationReduced:\n",
    "\t\thabitationReducedList = list(habitationReduced)\n",
    "\t\tstateSetInHabitation = dict()\n",
    "\t\theadingRow = True\n",
    "\t\tindexInHabitation = 1\n",
    "\t\tfor rowHabitation in habitationReducedList:\n",
    "\t\t\tif headingRow:\n",
    "\t\t\t\theadingRow = False\n",
    "\t\t\t\tcontinue\n",
    "\t\t\trowList = rowHabitation.split(\",\")\n",
    "\t\t\tstateSetInHabitation[rowList[1].upper().strip()] = indexInHabitation\n",
    "\t\t\tindexInHabitation += 1\n",
    "\t\t#print (stateSetInHabitation)\n",
    "\n",
    "\t\tstateSetInHealth = dict([])\n",
    "\t\theadingRow = True\n",
    "\t\tfor rowHealth in healthCareReducedList:\n",
    "\t\t\tif headingRow:\n",
    "\t\t\t\theadingRow = False\n",
    "\t\t\t\tcontinue\n",
    "\t\t\trowList = rowHealth.split(\",\")\n",
    "\t\t\tstateSetInHealth[rowList[1].upper().strip()] = rowList[2]\n",
    "\n",
    "\t\tcommonCount = 0\n",
    "\t\tuncommonCount = 0\n",
    "\n",
    "\t\treducedCSVList = []\n",
    "\t\treducedCSVList.append(['State', 'District', 'SC Current', 'ST Current', 'General Current', 'SC Covered', 'ST Covered', 'General Covered', 'Total Health Centres'])\n",
    "\n",
    "\t\tfor stateHabitat in stateSetInHabitation:\n",
    "\t\t\tif(stateHabitat in stateSetInHealth):\n",
    "\t\t\t\tcommonCount += 1\n",
    "\t\t\t\ttempList = habitationReducedList[stateSetInHabitation[stateHabitat]].split(\",\")\n",
    "\t\t\t\treducedCSVList.append([tempList[0], tempList[1], tempList[2], tempList[3], tempList[4], tempList[5], tempList[6], tempList[7].strip(), stateSetInHealth[stateHabitat].strip()])\n",
    "\t\t\telse:\n",
    "\t\t\t\t#print (stateHealth)\n",
    "\t\t\t\tuncommonCount += 1\n",
    "\t\t#print(commonCount)\n",
    "\t\t#print(uncommonCount)\n",
    "\t\t#print (reducedCSVList)\n",
    "\n",
    "\t\twith open('../data/healthAndHabitatMerged.csv', 'w') as merged:\n",
    "\t\t\twriter = csv.writer(merged)\n",
    "\t\t\twriter.writerows(reducedCSVList)\n"
   ]
  },
  {
   "cell_type": "code",
   "execution_count": 20,
   "metadata": {},
   "outputs": [],
   "source": [
    "with open('../data/healthAndHabitatMerged.csv', 'r') as merged:\n",
    "\tmergedList = list(merged)\n",
    "\theadingRow = True\n",
    "\n",
    "\taddedCSVList = []\n",
    "\taddedCSVList.append(['State', 'District', 'SC Current', 'ST Current', 'General Current', 'SC Covered', 'ST Covered', 'General Covered', 'Total Health Centres', 'Total Population', 'People per Health Centre', 'Percentage SC', 'Percentage SC covered',  'Percentage ST', 'Percentage ST covered',  'Percentage General', 'Percentage General Covered'])\n",
    "\n",
    "\tfor row in mergedList:\n",
    "\t\tif headingRow:\n",
    "\t\t\theadingRow = False\n",
    "\t\t\tcontinue\n",
    "\t\trowList = row.split(\",\")\n",
    "\n",
    "\t\tstCurrent = intValueOf(rowList[3])\n",
    "\t\tscCurrent = intValueOf(rowList[2])\n",
    "\t\tgeneralCurrent = intValueOf(rowList[4])\n",
    "\t\t\n",
    "\t\tstCovered = intValueOf(rowList[6])\n",
    "\t\tscCovered = intValueOf(rowList[5])\n",
    "\t\tgeneralCovered = intValueOf(rowList[7])\n",
    "\n",
    "\t\tperStCovered = percentage(stCurrent, stCovered)\n",
    "\t\tperScCovered = percentage(scCurrent, stCovered)\n",
    "\t\tperGenCovered = percentage(generalCurrent, generalCovered)\n",
    "\n",
    "\t\ttotalPopulation = stCurrent + scCurrent + generalCurrent\n",
    "\n",
    "\t\tperSc = percentage(totalPopulation, scCurrent)\n",
    "\t\tperSt = percentage(totalPopulation, stCurrent)\n",
    "\t\tperGen = percentage(totalPopulation, generalCurrent)\n",
    "\n",
    "\t\tpeoplePerHealthCentre = \"NA\"\n",
    "\t\tif(intValueOf(rowList[8]) != 0):\n",
    "\t\t\tpeoplePerHealthCentre = totalPopulation / intValueOf(rowList[8])\n",
    "        \n",
    "\t\taddedCSVList.append([rowList[0], rowList[1], rowList[2], rowList[3], rowList[4], rowList[5], rowList[6], rowList[7], rowList[8].strip(), totalPopulation, peoplePerHealthCentre, perSc, perScCovered, perSt, perStCovered, perGen, perGenCovered])\n",
    "\n",
    "\t#print(addedCSVList)\n",
    "\n",
    "\twith open('../data/AddedAttributesMerged.csv', 'w') as merged:\n",
    "\t\twriter = csv.writer(merged)\n",
    "\t\twriter.writerows(addedCSVList)\n"
   ]
  },
  {
   "cell_type": "code",
   "execution_count": null,
   "metadata": {},
   "outputs": [],
   "source": []
  }
 ],
 "metadata": {
  "kernelspec": {
   "display_name": "Python 3",
   "language": "python",
   "name": "python3"
  },
  "language_info": {
   "codemirror_mode": {
    "name": "ipython",
    "version": 3
   },
   "file_extension": ".py",
   "mimetype": "text/x-python",
   "name": "python",
   "nbconvert_exporter": "python",
   "pygments_lexer": "ipython3",
   "version": "3.7.4"
  }
 },
 "nbformat": 4,
 "nbformat_minor": 4
}
