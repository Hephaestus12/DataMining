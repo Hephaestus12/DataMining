{
 "cells": [
  {
   "cell_type": "markdown",
   "metadata": {},
   "source": [
    "### This notebook applies k-means clustering on the dataset."
   ]
  },
  {
   "cell_type": "markdown",
   "metadata": {},
   "source": [
    "*Aim*: To create different levels of treatments provided in a certain district in two domains - the lower level health centres (SubCentres, Primary Health Care Centres and Community Health Centres) and higher level health centres (Sub Divisional Hospitals and District Hospitals)."
   ]
  },
  {
   "cell_type": "markdown",
   "metadata": {},
   "source": [
    "We start by importing the necessary packages - `csv` for us to use `csv.writer` to write our merged dataset into a csv file, `mpl_toolkits.mplot3d` for 3d plots and `matplotlib.pyplot` for 2d plots."
   ]
  },
  {
   "cell_type": "code",
   "execution_count": 48,
   "metadata": {},
   "outputs": [],
   "source": [
    "import csv\n",
    "from mpl_toolkits.mplot3d import Axes3D\n",
    "import matplotlib.pyplot as plt"
   ]
  },
  {
   "cell_type": "markdown",
   "metadata": {},
   "source": [
    "Function to detect if a particular string can be converted to an integer or not. The implementation is based on the concept of exception handling, i.e, if there is an exception while trying to convert the string to number, return `false`, else return `true`."
   ]
  },
  {
   "cell_type": "code",
   "execution_count": 49,
   "metadata": {},
   "outputs": [],
   "source": [
    "def isInteger(str):\n",
    "\ttry:\n",
    "\t\tnum = int(str)\n",
    "\texcept ValueError:\n",
    "\t\treturn False\n",
    "\treturn True"
   ]
  },
  {
   "cell_type": "markdown",
   "metadata": {},
   "source": [
    "Function to find the integer value of a certain string."
   ]
  },
  {
   "cell_type": "code",
   "execution_count": 50,
   "metadata": {},
   "outputs": [],
   "source": [
    "def intValueOf(str):\n",
    "\tif isInteger(str):\n",
    "\t\treturn int(str)\n",
    "\telse:\n",
    "\t\treturn 0"
   ]
  },
  {
   "cell_type": "markdown",
   "metadata": {},
   "source": [
    "Initializing lists to contain the number of centres per district, and variables to contain the maximum number of centres to set initial centroids of the cluster."
   ]
  },
  {
   "cell_type": "code",
   "execution_count": 51,
   "metadata": {},
   "outputs": [],
   "source": [
    "# list for number of centres per district\n",
    "subCentres = []\n",
    "primaryCentres = []\n",
    "communityCentres = []\n",
    "subDivisionalHospitals = []\n",
    "districtHospitals = []\n",
    "\n",
    "# variables for the maximum number of a particular centre\n",
    "maxSubCentres = 0\n",
    "maxPrimaryCentres = 0\n",
    "maxCommunityCentres = 0\n",
    "maxSubDivisionalHospitals = 0\n",
    "maxDistrictHospitals = 0\n",
    "\n",
    "datasetList = []"
   ]
  },
  {
   "cell_type": "markdown",
   "metadata": {},
   "source": [
    "Storing the list of rows in the dataset"
   ]
  },
  {
   "cell_type": "code",
   "execution_count": 52,
   "metadata": {},
   "outputs": [],
   "source": [
    "with open('../data/AddedAttributesMerged.csv', 'r') as dataset:\n",
    "\tdatasetList = list(dataset)"
   ]
  },
  {
   "cell_type": "markdown",
   "metadata": {},
   "source": [
    "The below cell results in several lists consisting of the **normalized figure** of a particular centre in a certain district.\n",
    "\n",
    "The normalization is done by dividing by `totalPopulation` and multiplying by a factor **proportional to the number of beds** according to the government guidelines, as it becomes a measure of the number of people it can accommodate.\n",
    "Also, the figures were then multiplied by 10^5 to improve readability in the clustering graph while keeping the spatial arrangement in the graph unchanged.\n",
    "\n",
    "*Note: Lower and Higher healthcare centres were treated differently and the proportionality factors were calculated independently for both the categories.*\n",
    "\n",
    "Also, it calculates the maximum figure of a particular centre."
   ]
  },
  {
   "cell_type": "code",
   "execution_count": 53,
   "metadata": {},
   "outputs": [],
   "source": [
    "headingRow = True\n",
    "for row in datasetList:\n",
    "\t#skip first row\n",
    "\tif headingRow:\n",
    "\t\theadingRow = False\n",
    "\t\tcontinue\n",
    "\t\n",
    "    #get elements of the row\n",
    "\trowList = row.split(\",\")\n",
    "\n",
    "\ttotalPopulation = intValueOf(rowList[8].strip())\n",
    "    \n",
    "    #Normalized figure for each centres\n",
    "\tnoOfSubCentres = intValueOf(rowList[17].strip()) * (10 ** 5) / (20 * totalPopulation)\n",
    "\tnoOfPrimaryCentres = intValueOf(rowList[18].strip()) * (10 ** 5) / (5 * totalPopulation)\n",
    "\tnoOfCommunityCentres = intValueOf(rowList[19].strip()) * (10 ** 5) * 2 / totalPopulation\n",
    "\tnoOfSubDivisional = intValueOf(rowList[20].strip()) * (10 ** 5) / (3 * totalPopulation)\n",
    "\tnoOfDistrict = intValueOf(rowList[21].strip()) * (10 ** 5) / totalPopulation\n",
    "    \n",
    "    #check if the normalized figure of centres is greater than the current max figure of centres\n",
    "\tmaxSubCentres = noOfSubCentres if noOfSubCentres > maxSubCentres else maxSubCentres\n",
    "\tmaxPrimaryCentres = noOfPrimaryCentres if noOfPrimaryCentres > maxPrimaryCentres else maxPrimaryCentres\n",
    "\tmaxCommunityCentres = noOfCommunityCentres if noOfCommunityCentres > maxCommunityCentres else maxCommunityCentres\n",
    "\tmaxSubDivisionalHospitals = noOfSubDivisional if noOfSubDivisional > maxSubDivisionalHospitals else maxSubDivisionalHospitals\n",
    "\tmaxDistrictHospitals = noOfDistrict if noOfDistrict > maxDistrictHospitals else maxDistrictHospitals\n",
    "\n",
    "    #adding the figures to the respective list\n",
    "\tsubCentres.append(noOfSubCentres)\n",
    "\tprimaryCentres.append(noOfPrimaryCentres)\n",
    "\tcommunityCentres.append(noOfCommunityCentres)\n",
    "\tsubDivisionalHospitals.append(noOfSubDivisional)\n",
    "\tdistrictHospitals.append(noOfDistrict)"
   ]
  },
  {
   "cell_type": "markdown",
   "metadata": {},
   "source": [
    "Initalizing lists to hold the lower and higher health level of the districts."
   ]
  },
  {
   "cell_type": "code",
   "execution_count": 54,
   "metadata": {},
   "outputs": [],
   "source": [
    "lowerHealthLevel = []\n",
    "higherHealthLevel = []\n",
    "for i in range(len(datasetList)):\n",
    "\tlowerHealthLevel.append(0)\n",
    "\thigherHealthLevel.append(0)"
   ]
  },
  {
   "cell_type": "markdown",
   "metadata": {},
   "source": [
    "Finding the level of a certain district and assosciating it with a colour"
   ]
  },
  {
   "cell_type": "code",
   "execution_count": 55,
   "metadata": {},
   "outputs": [],
   "source": [
    "# colour according to the lower level\n",
    "def findColourForLower(index):\n",
    "    # find which centroid it is closest to\n",
    "\tminDistanceCentroid = findMinDistanceCentroidLower(index)\n",
    "\tif minDistanceCentroid == 1:\n",
    "\t\treturn 'red'\n",
    "\telif minDistanceCentroid == 2:\n",
    "\t\treturn 'green'\n",
    "\telif minDistanceCentroid == 3:\n",
    "\t\treturn 'orange'\n",
    "\telif minDistanceCentroid == 4:\n",
    "\t\treturn 'blue'\n",
    "    \n",
    "# colour according to the higher level\n",
    "def findColourForHigher(index):\n",
    "    # find which centroid it is closest to\n",
    "\tminDistanceCentroid = findMinDistanceCentroidHigher(index)\n",
    "\tif minDistanceCentroid == 1:\n",
    "\t\treturn 'red'\n",
    "\telif minDistanceCentroid == 2:\n",
    "\t\treturn 'green'\n",
    "\telif minDistanceCentroid == 3:\n",
    "\t\treturn 'blue'"
   ]
  },
  {
   "cell_type": "markdown",
   "metadata": {},
   "source": [
    "Finding the centroid a particular point is closest to in the higher and lower level plot respectively."
   ]
  },
  {
   "cell_type": "code",
   "execution_count": 56,
   "metadata": {},
   "outputs": [],
   "source": [
    "# which centroid is the point closest to in the lower level plot\n",
    "def findMinDistanceCentroidLower(index):\n",
    "\tminDistance = findDistanceLower(index, centroidLower1)\n",
    "\tminCentroid = 1\n",
    "\tif findDistanceLower(index, centroidLower2) < minDistance:\n",
    "\t\tminDistance = findDistanceLower(index, centroidLower2)\n",
    "\t\tminCentroid = 2\n",
    "\tif findDistanceLower(index, centroidLower3) < minDistance:\n",
    "\t\tminDistance = findDistanceLower(index, centroidLower3)\n",
    "\t\tminCentroid = 3\n",
    "\tif findDistanceLower(index, centroidLower4) < minDistance:\n",
    "\t\tminDistance = findDistanceLower(index, centroidLower4)\n",
    "\t\tminCentroid = 4\n",
    "\treturn minCentroid\n",
    "\n",
    "# which centroid is the point closest to in the higher level plot\n",
    "def findMinDistanceCentroidHigher(index):\n",
    "\tminDistance = findDistanceHigher(index, centroidHigher1)\n",
    "\tminCentroid = 1\n",
    "\tif findDistanceHigher(index, centroidHigher2) < minDistance:\n",
    "\t\tminDistance = findDistanceHigher(index, centroidHigher2)\n",
    "\t\tminCentroid = 2\n",
    "\tif findDistanceHigher(index, centroidHigher3) < minDistance:\n",
    "\t\tminDistance = findDistanceHigher(index, centroidHigher3)\n",
    "\t\tminCentroid = 3\n",
    "\treturn minCentroid"
   ]
  },
  {
   "cell_type": "markdown",
   "metadata": {},
   "source": [
    "Finding the distance between a point and a centroid in higher and lower level plots."
   ]
  },
  {
   "cell_type": "code",
   "execution_count": 57,
   "metadata": {},
   "outputs": [],
   "source": [
    "# distance from the centroid in the higher level plot\n",
    "def findDistanceHigher(index, centroid):\n",
    "\treturn ((centroid[0] - subDivisionalHospitals[index]) ** 2 + (centroid[1] - districtHospitals[index]) ** 2) ** 1 / 2\n",
    "\n",
    "# distance from the centroid in the lower level plot\n",
    "def findDistanceLower(index, centroid):\n",
    "\treturn ((centroid[0] - subCentres[index]) ** 2 + (centroid[1] - primaryCentres[index]) ** 2 + (centroid[2] - communityCentres[index]) ** 2) ** 1 / 2"
   ]
  },
  {
   "cell_type": "markdown",
   "metadata": {},
   "source": [
    "The cell below applies the k-means clustering algorithm on the lower level health care normalized figures.\n",
    "\n",
    "*Choosing the initial centroid:* The data was spread in 3 dimensions. 4 cluster centroids were chosen (to indicate 4 levels), spread equidistant from each other along the diagonal connecting the origin and the maximum value of each centre, that is, the initial centroids were *(0, 0, 0), (maxSubCentres / 3, maxPrimaryCentres / 3, maxCommunityCentres / 3), (maxSubCentres * 2 / 3, maxPrimaryCentres * 2 / 3, maxCommunityCentres * 2 / 3), (maxSubCentres, maxPrimaryCentres, maxCommunityCentres)*. In doing so, we would be successfully creating different levels of medical amenities on the basis of our normalized figure.\n",
    "\n",
    "Each point is assigned to the closest centroid and a new centroid is created. This procedure is repeated 4 times and it is observed that the new centroid converges.\n",
    "\n",
    "It is rather interesting to observe that no point lies in level 3.\n"
   ]
  },
  {
   "cell_type": "code",
   "execution_count": 58,
   "metadata": {},
   "outputs": [
    {
     "data": {
      "image/png": "[encoded data removed]",
      "text/plain": [
       "<Figure size 432x288 with 1 Axes>"
      ]
     },
     "metadata": {
      "needs_background": "light"
     },
     "output_type": "display_data"
    }
   ],
   "source": [
    "#Initial centroids of lower level plots\n",
    "centroidLower1 = [0, 0, 0] # red\n",
    "centroidLower2 = [maxSubCentres / 3, maxPrimaryCentres / 3, maxCommunityCentres / 3] # green\n",
    "centroidLower3 = [maxSubCentres * 2 / 3 , maxPrimaryCentres * 2 / 3, maxCommunityCentres * 2 / 3] # orange\n",
    "centroidLower4 = [maxSubCentres, maxPrimaryCentres, maxCommunityCentres] # blue\n",
    "\n",
    "fig = plt.figure()\n",
    "ax = fig.add_subplot(111, projection='3d')\n",
    "for times in range(4):\n",
    "\tsumCentroid1 = [0, 0, 0]\n",
    "\tsumCentroid2 = [0, 0, 0]\n",
    "\tsumCentroid3 = [0, 0, 0]\n",
    "\tsumCentroid4 = [0, 0, 0]\n",
    "\n",
    "\tnoOfElementsCentroid1 = 0\n",
    "\tnoOfElementsCentroid2 = 0\n",
    "\tnoOfElementsCentroid3 = 0\n",
    "\tnoOfElementsCentroid4 = 0\n",
    "\tfor index in range(len(subCentres)):\n",
    "\t\tcolour = findColourForLower(index);\n",
    "\t\tif colour == 'red':\n",
    "\t\t\tlowerHealthLevel[index] = 1\n",
    "\t\t\tnoOfElementsCentroid1 += 1\n",
    "\t\t\tsumCentroid1 = [sumCentroid1[0] + subCentres[index], sumCentroid1[1] + primaryCentres[index], sumCentroid1[2] + communityCentres[index]]\n",
    "\t\t\tif noOfElementsCentroid1 == 1 and times == 3:\n",
    "\t\t\t\tax.scatter(subCentres[index], primaryCentres[index], communityCentres[index], c = colour, label = 'Level 1')\n",
    "\t\t\telse:\n",
    "\t\t\t\tax.scatter(subCentres[index], primaryCentres[index], communityCentres[index], c = colour)\n",
    "\t\telif colour == 'green':\n",
    "\t\t\tlowerHealthLevel[index] = 2\n",
    "\t\t\tnoOfElementsCentroid2 += 1\n",
    "\t\t\tsumCentroid2 = [sumCentroid2[0] + subCentres[index], sumCentroid2[1] + primaryCentres[index], sumCentroid2[2] + communityCentres[index]]\n",
    "\t\t\tif noOfElementsCentroid2 == 1 and times == 3:\n",
    "\t\t\t\tax.scatter(subCentres[index], primaryCentres[index], communityCentres[index], c = colour, label = 'Level 2')\n",
    "\t\t\telse:\n",
    "\t\t\t\tax.scatter(subCentres[index], primaryCentres[index], communityCentres[index], c = colour)\n",
    "\t\telif colour == 'orange':\n",
    "\t\t\tlowerHealthLevel[index] = 3\n",
    "\t\t\tnoOfElementsCentroid3 += 1\n",
    "\t\t\tsumCentroid3 = [sumCentroid1[0] + subCentres[index], sumCentroid3[1] + primaryCentres[index], sumCentroid3[2] + communityCentres[index]]\n",
    "\t\t\tif noOfElementsCentroid3 == 1 and times == 3:\n",
    "\t\t\t\tax.scatter(subCentres[index], primaryCentres[index], communityCentres[index], c = colour, label = 'Level 3')\n",
    "\t\t\telse:\n",
    "\t\t\t\tax.scatter(subCentres[index], primaryCentres[index], communityCentres[index], c = colour)\n",
    "\t\telif colour == 'blue':\n",
    "\t\t\tlowerHealthLevel[index] = 4\n",
    "\t\t\tnoOfElementsCentroid4 += 1\n",
    "\t\t\tsumCentroid4 = [sumCentroid4[0] + subCentres[index], sumCentroid4[1] + primaryCentres[index], sumCentroid4[2] + communityCentres[index]]\n",
    "\t\t\tif noOfElementsCentroid4 == 1 and times == 3:\n",
    "\t\t\t\tax.scatter(subCentres[index], primaryCentres[index], communityCentres[index], c = colour, label = 'Level 4')\n",
    "\t\t\telse:\n",
    "\t\t\t\tax.scatter(subCentres[index], primaryCentres[index], communityCentres[index], c = colour)\n",
    "# find new centroids\n",
    "\tif noOfElementsCentroid1 != 0:\n",
    "\t\tcentroidLower1 = [sumCentroid1[0] / noOfElementsCentroid1, sumCentroid1[1] / noOfElementsCentroid1, sumCentroid1[0] / noOfElementsCentroid1]\n",
    "\tif noOfElementsCentroid2 != 0:\n",
    "\t\tcentroidLower2 = [sumCentroid2[0] / noOfElementsCentroid2, sumCentroid2[1] / noOfElementsCentroid2, sumCentroid2[0] / noOfElementsCentroid2]\n",
    "\tif noOfElementsCentroid3 != 0:\n",
    "\t\tcentroidLower3 = [sumCentroid3[0] / noOfElementsCentroid3, sumCentroid3[1] / noOfElementsCentroid3, sumCentroid3[0] / noOfElementsCentroid3]\n",
    "\tif noOfElementsCentroid4 != 0:\n",
    "\t\tcentroidLower4 = [sumCentroid4[0] / noOfElementsCentroid4, sumCentroid4[1] / noOfElementsCentroid4, sumCentroid4[0] / noOfElementsCentroid4]\n",
    "\n",
    "ax.legend()\n",
    "\n",
    "ax.set_xlabel('Normalised Sub Centres')\n",
    "ax.set_ylabel('Normalised Primary Centres')\n",
    "ax.set_zlabel('Normalised Community Centres')\n",
    "\n",
    "plt.show()"
   ]
  },
  {
   "cell_type": "markdown",
   "metadata": {},
   "source": [
    "The cell below applies the k-means clustering algorithm on the higher level health care normalized figures.\n",
    "\n",
    "*Choosing the initial centroids:* The data was spread in 2 dimensions sticking closely to the axes, suggesting a negative correlation in the district hospital parameter and the sub divisional parameter. 3 cluster centroids were chosen, one at the *origin*, suggesting the lowest level, one on the sub divisional axis at a distance of *maxSubDivisionalCentres / 2* to mark the second level, and the last level to be in the cluster defined by the initial centroid on the district hospital axis at a distance of *maxDistrictHospital / 4*. The reason to divide by 4 instead of 2 is that the max value can rather be seen as an outlier in this case, and the next maximums are concentrated around the region around the distance of maxDistrictHospital / 4. The reason for the second level to be at the sub divisional axis is that sub divisional hospitals come below district hospitals in the hierarchy of medical facilities.\n",
    "\n",
    "Each point is assigned to the closest centroid and a new centroid is created. This procedure is repeated 4 times and it is observed that the new centroid converges."
   ]
  },
  {
   "cell_type": "code",
   "execution_count": 59,
   "metadata": {},
   "outputs": [
    {
     "data": {
      "image/png": "[encoded data removed]",
      "text/plain": [
       "<Figure size 432x288 with 1 Axes>"
      ]
     },
     "metadata": {
      "needs_background": "light"
     },
     "output_type": "display_data"
    }
   ],
   "source": [
    "#Initial Centroids for higher health level plot\n",
    "centroidHigher1 = [0, 0] # red\n",
    "centroidHigher2 = [maxSubDivisionalHospitals / 2, 0] # green\n",
    "centroidHigher3 = [0, maxDistrictHospitals / 4] # blue\n",
    "for times in range(4):\n",
    "\tsumCentroid1 = [0, 0]\n",
    "\tsumCentroid2 = [0, 0]\n",
    "\tsumCentroid3 = [0, 0]\n",
    "\n",
    "\tnoOfElementsCentroid1 = 0\n",
    "\tnoOfElementsCentroid2 = 0\n",
    "\tnoOfElementsCentroid3 = 0\n",
    "\tfor index in range(len(subDivisionalHospitals)):\n",
    "\t\tcolour = findColourForHigher(index);\n",
    "\t\tif colour == 'red':\n",
    "\t\t\thigherHealthLevel[index] = 1\n",
    "\t\t\tnoOfElementsCentroid1 += 1\n",
    "\t\t\tsumCentroid1 = [sumCentroid1[0] + subDivisionalHospitals[index], sumCentroid1[1] + districtHospitals[index]]\n",
    "\t\t\tif noOfElementsCentroid1 == 1 and times == 3:\n",
    "\t\t\t\tplt.scatter(subDivisionalHospitals[index], districtHospitals[index], c = colour, label = 'Level 1')\n",
    "\t\t\telse:\n",
    "\t\t\t\tplt.scatter(subDivisionalHospitals[index], districtHospitals[index], c = colour)\n",
    "\n",
    "\t\telif colour == 'green':\n",
    "\t\t\thigherHealthLevel[index] = 2\n",
    "\t\t\tnoOfElementsCentroid2 += 1\n",
    "\t\t\tsumCentroid2 = [sumCentroid2[0] + subDivisionalHospitals[index], sumCentroid2[1] + districtHospitals[index]]\n",
    "\t\t\tif noOfElementsCentroid2 == 2 and times == 3:\n",
    "\t\t\t\tplt.scatter(subDivisionalHospitals[index], districtHospitals[index], c = colour, label = 'Level 2')\n",
    "\t\t\telse:\n",
    "\t\t\t\tplt.scatter(subDivisionalHospitals[index], districtHospitals[index], c = colour)\n",
    "\t\telif colour == 'blue':\n",
    "\t\t\thigherHealthLevel[index] = 3\n",
    "\t\t\tnoOfElementsCentroid3 += 1\n",
    "\t\t\tsumCentroid3 = [sumCentroid3[0] + subDivisionalHospitals[index], sumCentroid3[1] + districtHospitals[index]]\n",
    "\t\t\tif noOfElementsCentroid3 == 1 and times == 3:\n",
    "\t\t\t\tplt.scatter(subDivisionalHospitals[index], districtHospitals[index], c = colour, label = 'Level 3')\n",
    "\t\t\telse:\n",
    "\t\t\t\tplt.scatter(subDivisionalHospitals[index], districtHospitals[index], c = colour)\n",
    "# find new centroids\n",
    "\tif noOfElementsCentroid1 != 0:\n",
    "\t\tcentroidHigher1 = [sumCentroid1[0] / noOfElementsCentroid1, sumCentroid1[1] / noOfElementsCentroid1]\n",
    "\tif noOfElementsCentroid2 != 0:\n",
    "\t\tcentroidHigher2 = [sumCentroid2[0] / noOfElementsCentroid2, sumCentroid2[1] / noOfElementsCentroid2]\n",
    "\tif noOfElementsCentroid3 != 0:\n",
    "\t\tcentroidHigher3 = [sumCentroid3[0] / noOfElementsCentroid3, sumCentroid3[1] / noOfElementsCentroid3]\n",
    "plt.legend()\n",
    "plt.xlabel('Normalised Sub Divisional Hospitals')\n",
    "plt.ylabel('Normalised District Hospitals')\n",
    "plt.show()"
   ]
  },
  {
   "cell_type": "markdown",
   "metadata": {},
   "source": [
    "Initializing the final list of values with the headings"
   ]
  },
  {
   "cell_type": "code",
   "execution_count": 60,
   "metadata": {},
   "outputs": [],
   "source": [
    "finalList = []\n",
    "finalList.append(['State', 'District', 'SC Current', 'ST Current', 'General Current', 'SC Covered', 'ST Covered', 'General Covered', 'Total Population', 'Percentage SC', 'Percentage SC covered',  'Percentage ST', 'Percentage ST covered',  'Percentage General', 'Percentage General Covered', 'State Index', 'Backward Concentrated', 'Number of Sub Centres', 'Number of Primary Health Centres', 'Number of Community Health Centres', 'Sub Divisional Hospitals', 'District Hospitals', 'Lower Health Centre Level', 'Higher Health Centre Level'])"
   ]
  },
  {
   "cell_type": "markdown",
   "metadata": {},
   "source": [
    "Adding the lower and higher health level to the list"
   ]
  },
  {
   "cell_type": "code",
   "execution_count": 61,
   "metadata": {},
   "outputs": [],
   "source": [
    "headingRow = True\n",
    "for row in range(len(datasetList)):\n",
    "\tif headingRow:\n",
    "\t\theadingRow = False\n",
    "\t\tcontinue\n",
    "\t\t\n",
    "\trowList = datasetList[row].split(\",\")\n",
    "\trowList[len(rowList) - 1] = rowList[len(rowList) - 1].strip()\n",
    "\trowList.append(lowerHealthLevel[row - 1])\n",
    "\trowList.append(higherHealthLevel[row - 1])\n",
    "\tfinalList.append(rowList)"
   ]
  },
  {
   "cell_type": "markdown",
   "metadata": {},
   "source": [
    "Writing the new list into a new *.csv* file `MergedWithHealthLevels.csv`"
   ]
  },
  {
   "cell_type": "code",
   "execution_count": 63,
   "metadata": {},
   "outputs": [],
   "source": [
    "with open('../data/MergedWithHealthLevels.csv', 'w') as merged:\n",
    "\twriter = csv.writer(merged)\n",
    "\twriter.writerows(finalList)"
   ]
  },
  {
   "cell_type": "code",
   "execution_count": null,
   "metadata": {},
   "outputs": [],
   "source": []
  }
 ],
 "metadata": {
  "kernelspec": {
   "display_name": "Python 3",
   "language": "python",
   "name": "python3"
  },
  "language_info": {
   "codemirror_mode": {
    "name": "ipython",
    "version": 3
   },
   "file_extension": ".py",
   "mimetype": "text/x-python",
   "name": "python",
   "nbconvert_exporter": "python",
   "pygments_lexer": "ipython3",
   "version": "3.7.6"
  }
 },
 "nbformat": 4,
 "nbformat_minor": 4
}
