{
 "cells": [
  {
   "cell_type": "markdown",
   "metadata": {},
   "source": [
    "### This notebook adds new numerical attributes to the merged dataset"
   ]
  },
  {
   "cell_type": "markdown",
   "metadata": {},
   "source": [
    "The attributes added are - *% SC covered*, *% ST covered*, *% General covered*, *% SC population*,*% ST population*, *% Gen population*, *Is Backward Concentrated?*, *Total Population*"
   ]
  },
  {
   "cell_type": "markdown",
   "metadata": {},
   "source": [
    "We start by importing the necessary package - csv, for us to use `csv.writer` to write our merged dataset into a csv file."
   ]
  },
  {
   "cell_type": "code",
   "execution_count": 7,
   "metadata": {},
   "outputs": [],
   "source": [
    "import csv"
   ]
  },
  {
   "cell_type": "markdown",
   "metadata": {},
   "source": [
    "Function to detect if a particular string can be converted to an integer or not. The implementation is based on the concept of exception handling, i.e, if there is an exception while trying to convert the string to number, return `false`, else return `true`."
   ]
  },
  {
   "cell_type": "code",
   "execution_count": 8,
   "metadata": {},
   "outputs": [],
   "source": [
    "def isInteger(str):\n",
    "\ttry:\n",
    "\t\tnum = int(str)\n",
    "\texcept ValueError:\n",
    "\t\treturn False\n",
    "\treturn True"
   ]
  },
  {
   "cell_type": "markdown",
   "metadata": {},
   "source": [
    "Function to find the integer value of a certain string."
   ]
  },
  {
   "cell_type": "code",
   "execution_count": 9,
   "metadata": {},
   "outputs": [],
   "source": [
    "def intValueOf(str):\n",
    "\tif isInteger(str):\n",
    "\t\treturn int(str)\n",
    "\telse:\n",
    "\t\treturn 0"
   ]
  },
  {
   "cell_type": "markdown",
   "metadata": {},
   "source": [
    "Function to find the percentage of a number with respect to another, checking that none of them is 0."
   ]
  },
  {
   "cell_type": "code",
   "execution_count": 10,
   "metadata": {},
   "outputs": [],
   "source": [
    "def percentage(big, small):\n",
    "\tif big != 0 and small != 0:\n",
    "\t\treturn small / big * 100\n",
    "\telse:\n",
    "\t\treturn \"NA\""
   ]
  },
  {
   "cell_type": "markdown",
   "metadata": {},
   "source": [
    "Storing the list of rows in `mergedList`"
   ]
  },
  {
   "cell_type": "code",
   "execution_count": 16,
   "metadata": {},
   "outputs": [],
   "source": [
    "with open('../data/healthAndHabitatMerged.csv', 'r') as merged:\n",
    "\tmergedList = list(merged)"
   ]
  },
  {
   "cell_type": "markdown",
   "metadata": {},
   "source": [
    "Initializing a list to contain the new values `addedCSVList`, `headingRow` to skip the first row, and dictionary `stateIndices` to ensure a constant time lookup on the row the values are to be added."
   ]
  },
  {
   "cell_type": "code",
   "execution_count": 12,
   "metadata": {},
   "outputs": [],
   "source": [
    "headingRow = True\n",
    "stateIndices = dict()\n",
    "addedCSVList = []\n",
    "addedCSVList.append(['State', 'District', 'SC Current', 'ST Current', 'General Current', 'SC Covered', 'ST Covered', 'General Covered', 'Total Population', 'Percentage SC', 'Percentage SC covered',  'Percentage ST', 'Percentage ST covered',  'Percentage General', 'Percentage General Covered', 'State Index', 'Backward Concentrated', 'Number of Sub Centres', 'Number of Primary Health Centres', 'Number of Community Health Centres', 'Sub Divisional Hospitals', 'District Hospitals'])"
   ]
  },
  {
   "cell_type": "markdown",
   "metadata": {},
   "source": [
    "The cell below calculates the new attributes to be added.\n",
    "Iterating through the list of rows and then splitting to get each element, and using the numerical data to calculate new numerical data as is quite evident in the formulae used in the cell below (see the comments for reference)."
   ]
  },
  {
   "cell_type": "code",
   "execution_count": 13,
   "metadata": {},
   "outputs": [],
   "source": [
    "for row in mergedList:\n",
    "\tif headingRow:\n",
    "\t\theadingRow = False\n",
    "\t\tcontinue\n",
    "\trowList = row.split(\",\")\n",
    "\n",
    "\tstate = rowList[0]\n",
    "\tstateIndex = -1\n",
    "\tif state in stateIndices:\n",
    "\t\tstateIndex = stateIndices[state]\n",
    "\telse:\n",
    "\t\tstateIndices[state] = len(stateIndices)\n",
    "\t\tstateIndex = stateIndices[state]\n",
    "\n",
    "\tbackwardConcentrated = 0\n",
    "\n",
    "    #getting the required numerical values from the list of elements\n",
    "\tstCurrent = intValueOf(rowList[3])\n",
    "\tscCurrent = intValueOf(rowList[2])\n",
    "\tgeneralCurrent = intValueOf(rowList[4])\n",
    "\t\t\n",
    "\tstCovered = intValueOf(rowList[6])\n",
    "\tscCovered = intValueOf(rowList[5])\n",
    "\tgeneralCovered = intValueOf(rowList[7])\n",
    "\n",
    "    #percentage covered calculation\n",
    "\tperStCovered = percentage(stCurrent, stCovered)\n",
    "\tperScCovered = percentage(scCurrent, scCovered)\n",
    "\tperGenCovered = percentage(generalCurrent, generalCovered)\n",
    "\n",
    "    #total population\n",
    "\ttotalPopulation = stCurrent + scCurrent + generalCurrent\n",
    "\n",
    "    #percentage caste\n",
    "\tperSc = percentage(totalPopulation, scCurrent)\n",
    "\tperSt = percentage(totalPopulation, stCurrent)\n",
    "    \n",
    "    #is backward concentrated?\n",
    "\tif(intValueOf(perSc) + intValueOf(perSt) > 50) :\n",
    "\t\tbackwardConcentrated = 1\n",
    "\tperGen = percentage(totalPopulation, generalCurrent)\n",
    "\n",
    "    #appending to the new list\n",
    "\taddedCSVList.append([rowList[0], rowList[1], rowList[2], rowList[3], rowList[4], rowList[5], rowList[6], rowList[7], totalPopulation, perSc, perScCovered, perSt, perStCovered, perGen, perGenCovered, stateIndex, backwardConcentrated, rowList[8], rowList[9], rowList[10], rowList[11], rowList[12].strip()])"
   ]
  },
  {
   "cell_type": "markdown",
   "metadata": {},
   "source": [
    "Writing the new attributes into a new *.csv* file `AddedAttributesMerged.csv`"
   ]
  },
  {
   "cell_type": "code",
   "execution_count": 14,
   "metadata": {},
   "outputs": [],
   "source": [
    "with open('../data/AddedAttributesMerged.csv', 'w') as merged:\n",
    "\twriter = csv.writer(merged)\n",
    "\twriter.writerows(addedCSVList)"
   ]
  }
 ],
 "metadata": {
  "kernelspec": {
   "display_name": "Python 3",
   "language": "python",
   "name": "python3"
  },
  "language_info": {
   "codemirror_mode": {
    "name": "ipython",
    "version": 3
   },
   "file_extension": ".py",
   "mimetype": "text/x-python",
   "name": "python",
   "nbconvert_exporter": "python",
   "pygments_lexer": "ipython3",
   "version": "3.7.6"
  }
 },
 "nbformat": 4,
 "nbformat_minor": 4
}
