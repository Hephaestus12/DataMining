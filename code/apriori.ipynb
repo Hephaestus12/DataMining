{
 "nbformat": 4,
 "nbformat_minor": 2,
 "metadata": {
  "language_info": {
   "name": "python",
   "codemirror_mode": {
    "name": "ipython",
    "version": 3
   },
   "version": "3.7.4-final"
  },
  "orig_nbformat": 2,
  "file_extension": ".py",
  "mimetype": "text/x-python",
  "name": "python",
  "npconvert_exporter": "python",
  "pygments_lexer": "ipython3",
  "version": 3,
  "kernelspec": {
   "name": "python3",
   "display_name": "Python 3"
  }
 },
 "cells": [
  {
   "cell_type": "markdown",
   "metadata": {},
   "source": [
    "This notebook applies **Association Rule mining** to the dataset.\n",
    "We start with loading the data set.\n",
    "\n",
    "As per instructions, We will not be using any python external libraties to demonstrate how this works from scratch.\n",
    "\n",
    "`dataList` stores the entire dataset in list form."
   ],
   "execution_count": null,
   "outputs": []
  },
  {
   "cell_type": "code",
   "execution_count": null,
   "metadata": {
    "tags": [
     "outputPrepend"
    ]
   },
   "outputs": [],
   "source": [
    "with open('../data/MergedWithHealthLevels.csv', 'r') as data:\n",
    "    dataList = list(data)\n",
    "    headingRow = True\n",
    "    print(dataList)"
   ]
  },
  {
   "cell_type": "markdown",
   "metadata": {},
   "source": [
    "Setting up a few variables to store data. The names are self explanatory."
   ],
   "execution_count": null,
   "outputs": []
  },
  {
   "cell_type": "code",
   "execution_count": null,
   "metadata": {},
   "outputs": [],
   "source": [
    "    num_back_conc = 0\n",
    "    num_general_conc = 0\n",
    "    num_lower = [0 for i in range(5)]\n",
    "    num_higher = [0 for i in range(5)]\n",
    "    num_back_conc_lower = [0 for i in range(5)]\n",
    "    num_back_conc_higher = [0 for i in range(5)]"
   ]
  },
  {
   "cell_type": "markdown",
   "metadata": {},
   "source": [
    "This loop runs through the entire `dataList` where each element is considered to be a `row`. \n",
    "We then separate each of the elements of the row using the `split()` function. This gives us separate elements of the row in the List `rowList`\n",
    "\n",
    "**16** is the column number of the row with the binary variable if the state is Backward Concentrated or not.\n",
    "**22** is the level given according to the lower set of health facilities.\n",
    "**23** is the level given according to the higher set of health facilities.\n"
   ],
   "execution_count": null,
   "outputs": []
  },
  {
   "cell_type": "code",
   "execution_count": null,
   "metadata": {},
   "outputs": [],
   "source": [
    "    for row in dataList:\n",
    "        if headingRow:\n",
    "            headingRow = False\n",
    "            print(row)\n",
    "            continue\n",
    "        rowList = row.split(\",\")\n",
    "    \n",
    "        num_back_conc += int(rowList[16])\n",
    "        num_lower[int(rowList[22])] += 1\n",
    "        num_higher[int(rowList[23])] += 1\n",
    "        \n",
    "        if (int(rowList[16]) == 1):\n",
    "            num_back_conc_lower[int(rowList[22])] += 1\n",
    "            num_back_conc_higher[int(rowList[23])] += 1"
   ]
  },
  {
   "cell_type": "markdown",
   "metadata": {},
   "source": [
    "Getting basic statistical data"
   ],
   "execution_count": null,
   "outputs": []
  },
  {
   "cell_type": "code",
   "execution_count": null,
   "metadata": {},
   "outputs": [],
   "source": [
    "    num_gen_conc = 495-num_back_conc\n",
    "    \n",
    "    print (num_lower)\n",
    "    print (num_higher)\n",
    "    print (num_back_conc_lower)\n",
    "    print (num_back_conc_higher)\n",
    "    print (num_back_conc)"
   ]
  },
  {
   "cell_type": "markdown",
   "metadata": {},
   "source": [
    "Applying **Apriori** to for the rules: Backward classes --> lower level{`i`} treatment where `i` can take any value from 1-4 corresponding to the level of healthcare.\n"
   ],
   "execution_count": null,
   "outputs": []
  },
  {
   "cell_type": "code",
   "execution_count": null,
   "metadata": {},
   "outputs": [],
   "source": [
    "    for i in range(5) :\n",
    "        if i != 0 :\n",
    "            print('Considering rule : [ Backward classes --> lower level '+str(i)+' treatment ]')\n",
    "            print('\\tSupport = ' + str(num_back_conc/495))\n",
    "            print('\\tConfidence = '+str(num_back_conc_lower[i]/num_back_conc))\n",
    "            if num_lower[i]>0:\n",
    "                print('\\tLift = '+str(num_back_conc_lower[i]*495/(num_back_conc*num_lower[i])))\n",
    "            print()"
   ]
  },
  {
   "cell_type": "markdown",
   "metadata": {},
   "source": [
    "Applying the same for higher levels."
   ],
   "execution_count": null,
   "outputs": []
  },
  {
   "cell_type": "code",
   "execution_count": null,
   "metadata": {},
   "outputs": [],
   "source": [
    "    for i in range(4) :\n",
    "        if i != 0 :\n",
    "            print('Considering rule : [ Backward classes --> higher level '+str(i)+' treatment ]')\n",
    "            print('\\tSupport = ' + str(num_back_conc/495))\n",
    "            print('\\tConfidence = '+str(num_back_conc_higher[i]/num_back_conc))\n",
    "            if num_higher[i] > 0 :\n",
    "                print('\\tLift = '+str(num_back_conc_higher[i]*495/(num_back_conc*num_higher[i])))\n",
    "            print()"
   ]
  },
  {
   "cell_type": "markdown",
   "metadata": {},
   "source": [
    "A few other rules:"
   ],
   "execution_count": null,
   "outputs": []
  },
  {
   "cell_type": "code",
   "execution_count": null,
   "metadata": {},
   "outputs": [],
   "source": [
    "    print('Considering rule : [ Backward classes --> lower level 2, 3, and 4 treatment ]')\n",
    "    print('\\tSupport = ' + str(num_back_conc/495))\n",
    "    print('\\tConfidence = '+str((num_back_conc_lower[2]+num_back_conc_lower[3]+num_back_conc_lower[4])/num_back_conc))\n",
    "    print('\\tLift = '+str((num_back_conc_lower[2]+num_back_conc_lower[3]+num_back_conc_lower[4])*495/(num_back_conc*(num_lower[2]+num_lower[3]+num_lower[4]))))\n",
    "    print()"
   ]
  },
  {
   "cell_type": "code",
   "execution_count": null,
   "metadata": {},
   "outputs": [],
   "source": [
    "    print('Considering rule : [ Backward classes --> higher level 2 and 3 treatment ]')\n",
    "    print('\\tSupport = ' + str(num_back_conc/495))\n",
    "    print('\\tConfidence = '+str((num_back_conc_higher[2]+num_back_conc_higher[3])/num_back_conc))\n",
    "    print('\\tLift = '+str((num_back_conc_higher[2]+num_back_conc_higher[3])*495/(num_back_conc*(num_higher[2]+num_higher[3]))))\n",
    "    print()"
   ]
  }
 ]
}