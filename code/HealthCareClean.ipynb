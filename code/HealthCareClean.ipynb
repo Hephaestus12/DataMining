{
 "cells": [
  {
   "cell_type": "markdown",
   "metadata": {},
   "source": [
    "### **This notebook preprocesses the *HealthCare.csv* file**\n",
    "The two major tasks carried out are removing special characters from a string literal (district name and state name), and assigning numerical 0 to the numerical attributes with 'NA' value.\n",
    "A trivial problem of leading and trailing whitespaces is also handled."
   ]
  },
  {
   "cell_type": "markdown",
   "metadata": {},
   "source": [
    "We start by importing the necessary packages - `csv` and `re` with the purpose of each described in the adjacent comment."
   ]
  },
  {
   "cell_type": "code",
   "execution_count": null,
   "metadata": {},
   "outputs": [],
   "source": [
    "import csv  #to use csv.writer to write our preprocessed data into a .csv file\n",
    "import re   # regular expressions package to remove special characters by using re.sub() function"
   ]
  },
  {
   "cell_type": "markdown",
   "metadata": {},
   "source": [
    "Function to detect if a particular string can be converted to an integer or not.\n",
    "The implementation is based on the concept of exception handling, i.e, if there is an exception while trying to convert the string to number, return `false`, else return `true`."
   ]
  },
  {
   "cell_type": "code",
   "execution_count": 3,
   "metadata": {},
   "outputs": [],
   "source": [
    "def isInteger(str):\n",
    "\ttry:\n",
    "\t\tnum = int(str)\n",
    "\texcept ValueError:\n",
    "\t\treturn False\n",
    "\treturn True"
   ]
  },
  {
   "cell_type": "markdown",
   "metadata": {},
   "source": [
    "Function to find the integer value of a certain string. If it is not convertable to an integer (which in our case would be for the attribute value **NA**), it would return 0."
   ]
  },
  {
   "cell_type": "code",
   "execution_count": 4,
   "metadata": {},
   "outputs": [],
   "source": [
    "def intValueOf(str):\n",
    "\tif isInteger(str):\n",
    "\t\treturn int(str)\n",
    "\telse:\n",
    "\t\treturn 0"
   ]
  },
  {
   "cell_type": "markdown",
   "metadata": {},
   "source": [
    "Opening *HealthCare.csv* and storing all the rows in the list - `healthCareList`"
   ]
  },
  {
   "cell_type": "code",
   "execution_count": 5,
   "metadata": {},
   "outputs": [],
   "source": [
    "with open('../data/HealthCare.csv', 'r') as healthCareCSV:\n",
    "    healthCareList = list(healthCareCSV)"
   ]
  },
  {
   "cell_type": "markdown",
   "metadata": {},
   "source": [
    "Initializing the new list of rows to be created - `reducedCSVList` with the heading names, and the boolean variable to skip the first row `headingRow`"
   ]
  },
  {
   "cell_type": "code",
   "execution_count": null,
   "metadata": {},
   "outputs": [],
   "source": [
    "headingRow = True\n",
    "reducedCSVList = []\n",
    "reducedCSVList.append(['State', 'District', 'Number of Sub Centres', 'Number of Primary Health Centres', 'Number of Community Health Centres', 'Sub Divisional Hospitals', 'District Hospitals'])"
   ]
  },
  {
   "cell_type": "markdown",
   "metadata": {},
   "source": [
    "Iterating through the list of rows in `healthCareList` and splitting by '**,**' to get a list of elements in a particular row in the form of a list - `rowList`.\n",
    "Getting rid of leading and trailing whitespaces by `strip()` function and getting rid of unnecessary special characters by `re.sub()` function.\n",
    "The supposedly numerical attributes which were in String format were converted to integers by using the helper function `intValueOf()`, which takes care of converting *NA* to *0*.\n",
    "The new values are then appended to the new list - `reducedCSVList`"
   ]
  },
  {
   "cell_type": "code",
   "execution_count": 9,
   "metadata": {},
   "outputs": [],
   "source": [
    "for row in healthCareList:\n",
    "    #Skipping first row\n",
    "    if headingRow:\n",
    "        headingRow = False\n",
    "        continue\n",
    "        \n",
    "    rowList = row.split(\",\") #List of elements of a row\n",
    "    \n",
    "    #Integer value of the numerical attributes. Converting NA to 0 as well.\n",
    "    noOfSubCentres = intValueOf(rowList[2].strip())\n",
    "    noOfPrimaryCentres = intValueOf(rowList[3].strip())\n",
    "    noOfCommunityCentres = intValueOf(rowList[4].strip())\n",
    "    noOfSubDivisional = intValueOf(rowList[5].strip())\n",
    "    noOfDistrict = intValueOf(rowList[6].strip())\n",
    "    \n",
    "    # removing special characters\n",
    "    stateClean = re.sub('\\W+',' ', rowList[0])\n",
    "    districtClean = re.sub('\\W+',' ', rowList[1])\n",
    "\n",
    "    #appending the new values to a list\n",
    "    reducedCSVList.append([stateClean, districtClean, noOfSubCentres, noOfPrimaryCentres, noOfCommunityCentres, noOfSubDivisional, noOfDistrict])\n"
   ]
  },
  {
   "cell_type": "markdown",
   "metadata": {},
   "source": [
    "Writing the new list created into a new *.csv* file *healthCleanReduced.csv*"
   ]
  },
  {
   "cell_type": "code",
   "execution_count": 8,
   "metadata": {},
   "outputs": [],
   "source": [
    "with open('../data/healthCleanReduced.csv', 'w') as healthCleanReduced:\n",
    "\twriter = csv.writer(healthCleanReduced)\n",
    "\twriter.writerows(reducedCSVList)"
   ]
  }
 ],
 "metadata": {
  "kernelspec": {
   "display_name": "Python 3",
   "language": "python",
   "name": "python3"
  },
  "language_info": {
   "codemirror_mode": {
    "name": "ipython",
    "version": 3
   },
   "file_extension": ".py",
   "mimetype": "text/x-python",
   "name": "python",
   "nbconvert_exporter": "python",
   "pygments_lexer": "ipython3",
   "version": "3.7.6"
  }
 },
 "nbformat": 4,
 "nbformat_minor": 4
}
