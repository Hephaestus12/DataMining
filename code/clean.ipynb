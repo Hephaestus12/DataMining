{
 "cells": [
  {
   "cell_type": "code",
   "execution_count": 1,
   "metadata": {},
   "outputs": [],
   "source": [
    "import csv\n",
    "import re\n",
    ""
   ]
  },
  {
   "cell_type": "code",
   "execution_count": 2,
   "metadata": {},
   "outputs": [],
   "source": [
    "def isInteger(str):\n",
    "\ttry:\n",
    "\t\tnum = int(str)\n",
    "\texcept ValueError:\n",
    "\t\treturn False\n",
    "\treturn True\n",
    ""
   ]
  },
  {
   "cell_type": "code",
   "execution_count": 3,
   "metadata": {},
   "outputs": [],
   "source": [
    "def intValueOf(str):\n",
    "\tif isInteger(str):\n",
    "\t\treturn int(str)\n",
    "\telse:\n",
    "\t\treturn 0\n",
    ""
   ]
  },
  {
   "cell_type": "code",
   "execution_count": 4,
   "metadata": {},
   "outputs": [],
   "source": [
    "def percentage(big, small):\n",
    "\tif big != 0 and small != 0:\n",
    "\t\treturn small / big * 100\n",
    "\telse:\n",
    "\t\treturn \"NA\"\n",
    ""
   ]
  },
  {
   "cell_type": "code",
   "execution_count": 5,
   "metadata": {},
   "outputs": [],
   "source": [
    "with open('../data/HealthCare.csv', 'r') as healthCareCSV:\n",
    "    healthCareList = list(healthCareCSV)\n",
    "    headingRow = True\n",
    "    reducedCSVList = []\n",
    "    reducedCSVList.append(['State', 'District', 'Total number of Health Care Centres'])\n",
    "    for row in healthCareList:\n",
    "        if headingRow:\n",
    "            headingRow = False\n",
    "            continue\n",
    "        rowList = row.split(\",\")\n",
    "        \n",
    "        noOfSubCentres = intValueOf(rowList[2].strip())\n",
    "        noOfPrimaryCentres = intValueOf(rowList[3].strip())\n",
    "        noOfCommunityCentres = intValueOf(rowList[4].strip())\n",
    "       \tnoOfSubDivisional = intValueOf(rowList[5].strip())\n",
    "       \tnoOfDistrict = intValueOf(rowList[6].strip())\n",
    "       \ttotalHealthCareCentres = noOfDistrict + noOfSubDivisional + noOfCommunityCentres + noOfPrimaryCentres + noOfSubCentres\n",
    "       \t# removing special characters\n",
    "       \tstateClean = re.sub('\\W+',' ', rowList[0])\n",
    "       \tdistrictClean = re.sub('\\W+',' ', rowList[1])\n",
    "       \treducedCSVList.append([stateClean, districtClean, totalHealthCareCentres])\n",
    "\n",
    "    with open('../data/healthCleanReduced.csv', 'w') as healthCleanReduced:\n",
    "    \twriter = csv.writer(healthCleanReduced)\n",
    "    \twriter.writerows(reducedCSVList)\n",
    ""
   ]
  },
  {
   "cell_type": "code",
   "execution_count": 6,
   "metadata": {},
   "outputs": [
    {
     "output_type": "stream",
     "name": "stdout",
     "text": "{'SRIKAKULAM(01)': 1, 'VIZIANAGARAM(02)': 2, 'VISAKHAPATNAM(03)': 3, 'EAST GODAVARI(04)': 4, 'WEST GODAVARI(05)': 5, 'KRISHNA(06)': 6, 'GUNTUR(07)': 7, 'PRAKASAM(08)': 8, 'NELLORE(09)': 9, 'CHITTOOR(10)': 10, 'KADAPA(11)': 11, 'ANANTAPUR(12)': 12, 'KURNOOL(13)': 13, 'MAHABOOBNAGAR(14)': 14, 'RANGAREDDY(15)': 15, 'MEDAK(17)': 16, 'NIZAMABAD(18)': 17, 'ADILABAD(19)': 18, 'KARIMNAGAR(20)': 19, 'WARANGAL(21)': 20, 'KHAMMAM(22)': 21, 'NALGONDA(23)': 22, 'TAWANG': 23, 'WEST KAMENG': 24, 'EAST KAMENG': 25, 'LOWER SUBANSIRI': 26, 'UPPER SUBANSIRI': 27, 'WEST SIANG': 28, 'EAST SIANG': 29, 'UPPER SIANG': 30, 'LOHIT': 31, 'ANJAW': 32, 'CHANGLANG': 33, 'TIRAP': 34, 'PAPUM PARE': 35, 'LOWER DIBANG VALLEY': 36, 'DIBANG VALLEY': 37, 'KURUNG KUMEY': 38, 'DHUBRI': 39, 'KOKRAJHAR': 40, 'CHIRANG': 41, 'BONGAIGAON': 42, 'GOALPARA': 43, 'BARPETA': 44, 'BAKSHA': 45, 'NALBARI': 46, 'KAMRUP': 47, 'DARRANG': 48, 'UDALGURI': 49, 'SONITPUR': 50, 'LAKHIMPUR': 51, 'DHEMAJI': 52, 'MARIGAON': 53, 'NAGAON': 54, 'GOLAGHAT': 55, 'JORHAT': 56, 'SIBSAGAR': 57, 'DIBRUGARH': 58, 'TINSUKIA': 59, 'KARBI ANGLONG': 60, 'NORTH CACHAR HILLS': 61, 'KARIMGANJ': 62, 'HAILAKANDI': 63, 'CACHAR': 64, 'PATNA': 65, 'NALANDA': 66, 'BHOJPUR(AARA)': 67, 'ROHTAS': 68, 'AURANGABAD': 296, 'JEHANABAD': 70, 'ARWAL': 71, 'GAYA': 72, 'NAWADA': 73, 'SARAN': 74, 'SIWAN': 75, 'GOPALGANJ': 76, 'PASHCHIM CHAMPARAN': 77, 'PURBA CHAMPARAN': 78, 'SITAMARHI': 79, 'MUZAFFARPUR': 80, 'VAISHALI': 81, 'BEGUSARAI': 82, 'SAMASTIPUR': 83, 'DARBHANGA': 84, 'MADHUBANI': 85, 'SAHARSA': 86, 'MADHEPURA': 87, 'PURNIA': 88, 'KATIHAR': 89, 'KHAGARIA': 90, 'MUNGER': 91, 'BHAGALPUR': 92, 'ARARIA': 93, 'KISHANGANJ': 94, 'SHEOHAR': 95, 'SUPAUL': 96, 'BANKA': 97, 'LAKHISARAI': 98, 'SHEIKHPURA': 99, 'BUXAR': 100, 'KAIMUR (BHABUA)': 101, 'JAMUI': 102, 'CHANDIGARH': 103, 'DADRA AND NAGAR HAVELI': 104, 'DAMAN': 105, 'NORTH GOA': 106, 'SOUTH GOA': 107, 'JAMNAGAR': 108, 'RAJKOT': 109, 'SURENDRANAGAR': 110, 'BHAVNAGAR': 111, 'AMRELI': 112, 'JUNAGADH': 113, 'KACHCHH': 114, 'BANAS KANTHA': 115, 'SABAR KANTHA': 116, 'MAHESANA': 117, 'GANDHINAGAR': 118, 'AHMADABAD': 119, 'KHEDA': 120, 'PANCH MAHALS': 121, 'VADODARA': 122, 'BHARUCH': 123, 'SURAT': 124, 'TAPI': 125, 'VALSAD': 126, 'DANG': 127, 'PATAN': 128, 'PORBANDAR': 129, 'ANAND': 130, 'DOHAD': 131, 'NARMADA': 132, 'NAVSARI': 133, 'AMBALA': 134, 'YAMUNANAGAR': 135, 'KAITHAL': 136, 'KURUKSHETRA': 137, 'JIND': 138, 'KARNAL': 139, 'PANIPAT': 140, 'SONIPAT': 141, 'ROHTAK': 142, 'FARIDABAD': 143, 'PALWAL': 144, 'GURGAON': 145, 'MEWAT': 146, 'REWARI': 147, 'JHAJJAR': 148, 'MAHENDRAGARH': 149, 'BHIWANI': 150, 'HISAR': 151, 'SIRSA': 152, 'FATEHABAD': 153, 'PANCHKULA': 154, 'CHAMBA': 155, 'KANGRA': 156, 'HAMIRPUR': 511, 'UNA': 158, 'BILASPUR': 562, 'MANDI': 160, 'KULLU': 161, 'LAHUL AND SPITI': 162, 'SHIMLA': 163, 'SOLAN': 164, 'SIRMAUR': 165, 'KINNAUR': 166, 'KUPWARA': 167, 'BARAMULLA': 168, 'BANDIPORA': 169, 'GANDERBAL': 170, 'SRINAGAR': 171, 'BUDGAM': 172, 'PULWAMA': 173, 'SHOPIAN': 174, 'ANANTNAG': 175, 'KULGAM': 176, 'LEH (LADAKH)': 177, 'KARGIL': 178, 'RAMBAN': 179, 'DODA': 180, 'KISHTWAR': 181, 'REASI': 182, 'UDHAMPUR': 183, 'POONCH': 184, 'RAJAURI': 185, 'JAMMU': 186, 'SAMBA': 187, 'KATHUA': 188, 'BAGALKOT': 189, 'RAMANAGARAM': 190, 'BANGALORE RURAL': 191, 'BELGAUM': 192, 'BELLARY': 193, 'BIDAR': 194, 'BIJAPUR': 580, 'CHIKMAGALUR': 196, 'BANGLORE URBAN': 197, 'DAKSHIN KANNAD': 198, 'DHARWAD': 199, 'GULBARGA': 200, 'YADGIR': 201, 'HASSAN': 202, 'KODAGU': 203, 'KOLAR': 204, 'CHIK BALLAPUR': 205, 'MANDYA': 206, 'MYSORE': 207, 'RAICHUR': 208, 'SHIMOGA': 209, 'TUMKUR': 210, 'UTTAR KANNADA': 211, 'KOPPAL': 212, 'GADAG': 213, 'HAVERI': 214, 'DAVANGERE': 215, 'UDUPI': 216, 'CHAMARAJANAGAR': 217, 'CHITRADURGA': 218, 'KASARAGOD': 219, 'KANNUR': 220, 'WAYANAD': 221, 'KOZHIKODE': 222, 'MALAPPURAM': 223, 'PALAKKAD': 224, 'THRISSUR': 225, 'ERNAKULAM': 226, 'IDUKKI': 227, 'KOTTAYAM': 228, 'ALAPPUZHA': 229, 'PATHANAMTHITTA': 230, 'KOLLAM': 231, 'THIRUVANANTHAPURAM': 232, 'MORENA': 233, 'BHIND': 234, 'GWALIOR': 235, 'DATIA': 236, 'SHIVPURI': 237, 'ASHOKNAGAR': 238, 'GUNA': 239, 'TIKAMGARH': 240, 'CHHATARPUR': 241, 'PANNA': 242, 'SAGAR': 243, 'DAMOH': 244, 'SATNA': 245, 'REWA': 246, 'SHAHDOL': 247, 'ANUPPUR': 248, 'SIDHI': 249, 'SINGROULI': 250, 'MANDSAUR': 251, 'RATLAM': 252, 'UJJAIN': 253, 'SHAJAPUR': 254, 'DEWAS': 255, 'JHABUA': 256, 'ALIRAJPUR': 257, 'DHAR': 258, 'INDORE': 259, 'KHARGONE': 260, 'KHANDWA': 261, 'BURHANPUR': 262, 'RAJGARH': 263, 'VIDISHA': 264, 'BHOPAL': 265, 'SEHORE': 266, 'RAISEN': 267, 'BETUL': 268, 'HOSHANGABAD': 269, 'JABALPUR': 270, 'NARSINGHPUR': 271, 'MANDLA': 272, 'CHHINDWARA': 273, 'SEONI': 274, 'BALAGHAT': 275, 'SHEOPUR': 276, 'UMARIA': 277, 'NEEMUCH': 278, 'BARWANI': 279, 'HARDA': 280, 'KATNI': 281, 'DINDORI': 282, 'THANE': 283, 'RAIGAD': 284, 'RATNAGIRI': 285, 'SINDHUDURG': 286, 'NASHIK': 287, 'DHULE': 288, 'JALGAON': 289, 'AHMEDNAGAR': 290, 'PUNE': 291, 'SATARA': 292, 'SANGLI': 293, 'SOLAPUR': 294, 'KOLHAPUR': 295, 'JALNA': 297, 'PARBHANI': 298, 'BEED': 299, 'NANDED': 300, 'OSMANABAD': 301, 'LATUR': 302, 'BULDANA': 303, 'AKOLA': 304, 'AMRAVATI': 305, 'YAVATMAL': 306, 'WARDHA': 307, 'NAGPUR': 308, 'BHANDARA': 309, 'CHANDRAPUR': 310, 'GADCHIROLI': 311, 'NANDURBAR': 312, 'WASHIM': 313, 'GONDIA': 314, 'HINGOLI': 315, 'LAKSHADWEEP DISTRICT': 316, 'JAINTIA HILLS': 317, 'EAST KHASI HILLS': 318, 'WEST KHASI HILLS': 319, 'EAST GARO HILLS': 320, 'WEST GARO HILLS': 321, 'SOUTH GARO HILLS': 322, 'RI BHOI': 323, 'AIZAWL': 324, 'LUNGLEI': 325, 'SAIHA': 326, 'MAMIT': 327, 'KOLASIB': 328, 'CHAMPHAI': 329, 'SERCHHIP': 330, 'LAWNGTLAI': 331, 'KOHIMA': 332, 'PEREN': 333, 'PHEK': 334, 'ZUNHEBOTO': 335, 'WOKHA': 336, 'MOKOKCHUNG': 337, 'LONGLENG': 338, 'TUENSANG': 339, 'KIPHIRE': 340, 'MON': 341, 'DIMAPUR': 342, 'SAMBALPUR': 343, 'SUNDARGARH': 344, 'KENDUJHAR': 345, 'MAYURBHANJ': 346, 'BALESHWAR': 347, 'CUTTACK': 348, 'DHENKANAL': 349, 'KANDHAMAL': 350, 'BALANGIR': 351, 'KALAHANDI': 352, 'KORAPUT': 353, 'GANJAM': 354, 'PURI': 355, 'BARGARH': 356, 'JHARSUGUDA': 357, 'DEBAGARH': 358, 'BHADRAK': 359, 'KENDRAPARA': 360, 'JAGATSINGHAPUR': 361, 'JAJAPUR': 362, 'ANUGUL': 363, 'NAYAGARH': 364, 'KHORDHA': 365, 'GAJAPATI': 366, 'BAUDH': 367, 'SONEPUR': 368, 'NUAPADA': 369, 'RAYAGADA': 370, 'NABARANGAPUR': 371, 'MALKANGIRI': 372, 'KARAIKAL': 373, 'PUDUCHERRY': 374, 'PATHANKOT': 375, 'GURDASPUR': 376, 'AMRITSAR': 377, 'TARN TARAN': 378, 'FIROZEPUR': 379, 'FAZILKA': 380, 'LUDHIANA': 381, 'JALANDHAR': 382, 'KAPURTHALA': 383, 'HOSHIARPUR': 384, 'RUPNAGAR': 385, 'S A S NAGAR': 386, 'PATIALA': 387, 'SANGRUR': 388, 'BARNALA': 389, 'BATHINDA': 390, 'MANSA': 391, 'FARIDKOT': 392, 'SHAHEED BHAGAT SINGH NAGAR': 393, 'FATEHGARH SAHIB': 394, 'MOGA': 395, 'MUKTSAR': 396, 'GANGANAGAR': 397, 'BIKANER': 398, 'CHURU': 399, 'JHUNJHUNUN': 400, 'ALWAR': 401, 'BHARATPUR': 402, 'DHAULPUR': 403, 'SAWAI MADHOPUR': 404, 'JAIPUR': 405, 'SIKAR': 406, 'AJMER': 407, 'TONK': 408, 'JAISALMER': 409, 'JODHPUR': 410, 'NAGAUR': 411, 'PALI': 412, 'BARMER': 413, 'JALOR': 414, 'SIROHI': 415, 'BHILWARA': 416, 'UDAIPUR': 417, 'CHITTAURGARH': 418, 'DUNGARPUR': 419, 'BANSWARA': 420, 'BUNDI': 421, 'KOTA': 422, 'JHALAWAR': 423, 'HANUMANGARH': 424, 'KARAULI': 425, 'DAUSA': 426, 'RAJSAMAND': 427, 'BARAN': 428, 'NORTH': 429, 'EAST': 430, 'SOUTH': 431, 'WEST': 432, 'COIMBATORE': 433, 'TIRUPPUR': 434, 'CUDDALORE': 435, 'KRISHNAGIRI': 436, 'DHARMAPURI': 437, 'DINDIGUL': 438, 'ERODE': 439, 'KANCHIPURAM': 440, 'KANNIYAKUMARI': 441, 'KARUR': 442, 'MADURAI': 443, 'NAGAPATTINAM': 444, 'NAMAKKAL': 445, 'PERAMBALUR': 446, 'ARIYALUR': 447, 'PUDUKKOTTAI': 448, 'RAMANATHAPURAM': 449, 'SALEM': 450, 'SIVAGANGA': 451, 'THANJAVUR': 452, 'THENI': 453, 'TIRUVALLUR': 454, 'TIRUVARUR': 455, 'TIRUCHIRAPPALLI': 456, 'TIRUNELVELI': 457, 'TIRUVANNAMALAI': 458, 'THOOTHUKUDI': 459, 'NILGIRIS': 460, 'VELLORE': 461, 'VILLUPURAM': 462, 'VIRUDHUNAGAR': 463, 'KHOWAI': 464, 'WEST TRIPURA': 465, 'SEPAHIJALA': 466, 'NORTH TRIPURA': 467, 'UNAKOTI': 468, 'GOMATI': 469, 'SOUTH TRIPURA': 470, 'DHALAI': 471, 'SAHARANPUR': 472, 'MUZAFFARNAGAR': 473, 'BIJNOR': 474, 'MORADABAD': 475, 'RAMPUR': 476, 'JYOTIBA PHOOLE NAGAR': 477, 'MEERUT': 478, 'BAGHPAT': 479, 'GHAZIABAD': 480, 'GAUTAM BUDDHA NAGAR': 481, 'BULANDSHAHR': 482, 'ALIGARH': 483, 'MAHAMAYA NAGAR': 484, 'MATHURA': 485, 'AGRA': 486, 'FIROZABAD': 487, 'KANSHIRAM NAGAR': 488, 'ETAH': 489, 'MAINPURI': 490, 'BUDAUN': 491, 'BAREILLY': 492, 'PILIBHIT': 493, 'SHAHJAHANPUR': 494, 'KHERI': 495, 'SITAPUR': 496, 'HARDOI': 497, 'UNNAO': 498, 'LUCKNOW': 499, 'RAE BARELI': 500, 'CHATRAPTI SHAHU JI NAGAR': 501, 'FARRUKHABAD': 502, 'KANNAUJ': 503, 'ETAWAH': 504, 'AURAIYA': 505, 'KANPUR DEHAT': 506, 'KANPUR NAGAR': 507, 'JALAUN': 508, 'JHANSI': 509, 'LALITPUR': 510, 'MAHOBA': 512, 'BANDA': 513, 'CHITRAKOOT': 514, 'FATEHPUR': 515, 'PRATAPGARH': 516, 'KAUSHAMBI': 517, 'ALLAHABAD': 518, 'BARABANKI': 519, 'FAIZABAD': 520, 'AMBEDKAR NAGAR': 521, 'SULTANPUR': 522, 'BAHRAICH': 523, 'SHRAVASTI': 524, 'BALRAMPUR': 570, 'GONDA': 526, 'SIDDHARTH NAGAR': 527, 'BASTI': 528, 'SANT KABEER NAGAR': 529, 'MAHARAJGANJ': 530, 'GORAKHPUR': 531, 'KUSHI NAGAR': 532, 'DEORIA': 533, 'AZAMGARH': 534, 'MAU': 535, 'BALLIA': 536, 'JAUNPUR': 537, 'GHAZIPUR': 538, 'CHANDAULI': 539, 'VARANASI': 540, 'SANT RAVIDAS NAGAR': 541, 'MIRZAPUR': 542, 'SONBHADRA': 543, 'DARJEELING': 544, 'JALPAIGURI': 545, 'COOCHBEHAR': 546, 'UTTAR DINAJPUR': 547, 'DAKSHIN DINAJPUR': 548, 'MALDAH': 549, 'MURSHIDABAD': 550, 'BIRBHUM': 551, 'BARDHAMAN': 552, 'NADIA': 553, 'NORTH 24 PARAGANAS': 554, 'HOOGHLY': 555, 'BANKURA': 556, 'PURULIA': 557, 'MEDINIPUR': 558, 'PURBA MEDINIPUR': 559, 'HOWRAH': 560, 'SOUTH 24 PARAGANAS': 561, 'MUNGELI': 563, 'KAWARDHA': 564, 'BEMETARA': 565, 'DURG': 566, 'BALOD': 567, 'RAJNANDAGON': 568, 'SURGUJA': 569, 'SURAJPUR': 571, 'KORIYA': 572, 'JASHPUR': 573, 'KORBA': 574, 'DHAMTARI': 575, 'KANKER': 576, 'KONDAGAON': 577, 'NARAYANPUR': 578, 'BASTAR': 579, 'DANTEWADA': 581, 'SUKMA': 582, 'RAIGARH': 583, 'JANJGIR-CHAMPA': 584, 'MAHASAMUND': 585, 'BALODA BAZAR': 586, 'RAIPUR': 587, 'GARIYABAND': 588, 'RANCHI': 589, 'KHUTI': 590, 'LOHARDAGA': 591, 'GUMLA': 592, 'SIMDEGA': 593, 'PALAMU': 594, 'LATEHAR': 595, 'GARHWA': 596, 'PASCHIM SINGHBHUM': 597, 'SAREIKELA AND KHARSAWAN': 598, 'PURBI SINGHBHUM': 599, 'DUMKA': 600, 'JAMTARA': 601, 'SAHIBGANJ': 602, 'PAKUR': 603, 'GODDA': 604, 'HAZARIBAG': 605, 'RAMGARH': 606, 'CHATRA': 607, 'KODERMA': 608, 'GIRIDIH': 609, 'BOKARO': 610, 'DHANBAD': 611, 'DEOGHAR': 612, 'UTTARKASHI': 613, 'DEHRADUN': 614, 'HARDWAR': 615, 'CHAMOLI': 616, 'GARHWAL': 617, 'RUDRAPRAYAG': 618, 'ALMORA': 619, 'NAINITAL': 620, 'UDHAM SINGH NAGAR': 621, 'CHAMPAWAT': 622, 'PITHORAGARH': 623, 'BAGESHWAR': 624, 'TEHRI GARHWAL': 625, 'THOUBAL': 626, 'IMPHAL WEST': 627, 'IMPHAL EAST': 628, 'BISHNUPUR': 629, 'CHANDEL': 630, 'CHURACHANDPUR': 631, 'SENAPATI': 632, 'TAMENGLONG': 633, 'UKHRUL': 634, 'NORTH AND MIDDLE ANDAMAN': 635, 'SOUTH ANDAMAN': 636, 'NICOBARS': 637}\n"
    }
   ],
   "source": [
    "with open('../data/healthCleanReduced.csv', 'r') as healthCareReducedCSV:\n",
    "\thealthCareReducedList = list(healthCareReducedCSV)\n",
    "\twith open('../data/habitation_reduced.csv', 'r') as habitationReduced:\n",
    "\t\thabitationReducedList = list(habitationReduced)\n",
    "\t\tstateSetInHabitation = dict()\n",
    "\t\theadingRow = True\n",
    "\t\tindexInHabitation = 1\n",
    "\t\tfor rowHabitation in habitationReducedList:\n",
    "\t\t\tif headingRow:\n",
    "\t\t\t\theadingRow = False\n",
    "\t\t\t\tcontinue\n",
    "\t\t\trowList = rowHabitation.split(\",\")\n",
    "\t\t\tstateSetInHabitation[rowList[1].upper().strip()] = indexInHabitation\n",
    "\t\t\tindexInHabitation += 1\n",
    "\t\tprint (stateSetInHabitation)\n",
    "\n",
    "\t\tstateSetInHealth = dict([])\n",
    "\t\theadingRow = True\n",
    "\t\tfor rowHealth in healthCareReducedList:\n",
    "\t\t\tif headingRow:\n",
    "\t\t\t\theadingRow = False\n",
    "\t\t\t\tcontinue\n",
    "\t\t\trowList = rowHealth.split(\",\")\n",
    "\t\t\tstateSetInHealth[rowList[1].upper().strip()] = rowList[2]\n",
    "\n",
    "\t\tcommonCount = 0\n",
    "\t\tuncommonCount = 0\n",
    "\n",
    "\t\treducedCSVList = []\n",
    "\t\treducedCSVList.append(['State', 'District', 'SC Current', 'ST Current', 'General Current', 'SC Covered', 'ST Covered', 'General Covered', 'Total Health Centres'])\n",
    "\n",
    "\t\tfor stateHabitat in stateSetInHabitation:\n",
    "\t\t\tif(stateHabitat in stateSetInHealth):\n",
    "\t\t\t\tcommonCount += 1\n",
    "\t\t\t\ttempList = habitationReducedList[stateSetInHabitation[stateHabitat]].split(\",\")\n",
    "\t\t\t\treducedCSVList.append([tempList[0], tempList[1], tempList[2], tempList[3], tempList[4], tempList[5], tempList[6], tempList[7].strip(), stateSetInHealth[stateHabitat].strip()])\n",
    "\t\t\telse:\n",
    "\t\t\t\t#print (stateHealth)\n",
    "\t\t\t\tuncommonCount += 1\n",
    "\t\t#print(commonCount)\n",
    "\t\t#print(uncommonCount)\n",
    "\t\t#print (reducedCSVList)\n",
    "\n",
    "\t\twith open('../data/healthAndHabitatMerged.csv', 'w') as merged:\n",
    "\t\t\twriter = csv.writer(merged)\n",
    "\t\t\twriter.writerows(reducedCSVList)\n",
    ""
   ]
  },
  {
   "cell_type": "code",
   "execution_count": 7,
   "metadata": {},
   "outputs": [],
   "source": [
    "with open('../data/healthAndHabitatMerged.csv', 'r') as merged:\n",
    "\tmergedList = list(merged)\n",
    "\theadingRow = True\n",
    "\n",
    "\taddedCSVList = []\n",
    "\taddedCSVList.append(['State', 'District', 'SC Current', 'ST Current', 'General Current', 'SC Covered', 'ST Covered', 'General Covered', 'Total Health Centres', 'Total Population', 'People per Health Centre', 'Percentage SC', 'Percentage SC covered',  'Percentage ST', 'Percentage ST covered',  'Percentage General', 'Percentage General Covered'])\n",
    "\n",
    "\tfor row in mergedList:\n",
    "\t\tif headingRow:\n",
    "\t\t\theadingRow = False\n",
    "\t\t\tcontinue\n",
    "\t\trowList = row.split(\",\")\n",
    "\n",
    "\t\tstCurrent = intValueOf(rowList[3])\n",
    "\t\tscCurrent = intValueOf(rowList[2])\n",
    "\t\tgeneralCurrent = intValueOf(rowList[4])\n",
    "\t\t\n",
    "\t\tstCovered = intValueOf(rowList[6])\n",
    "\t\tscCovered = intValueOf(rowList[5])\n",
    "\t\tgeneralCovered = intValueOf(rowList[7])\n",
    "\n",
    "\t\tperStCovered = percentage(stCurrent, stCovered)\n",
    "\t\tperScCovered = percentage(scCurrent, stCovered)\n",
    "\t\tperGenCovered = percentage(generalCurrent, generalCovered)\n",
    "\n",
    "\t\ttotalPopulation = stCurrent + scCurrent + generalCurrent\n",
    "\n",
    "\t\tperSc = percentage(totalPopulation, scCurrent)\n",
    "\t\tperSt = percentage(totalPopulation, stCurrent)\n",
    "\t\tperGen = percentage(totalPopulation, generalCurrent)\n",
    "\n",
    "\t\tpeoplePerHealthCentre = \"NA\"\n",
    "\t\tif(intValueOf(rowList[8]) != 0):\n",
    "\t\t\tpeoplePerHealthCentre = totalPopulation / intValueOf(rowList[8])\n",
    "        \n",
    "\t\taddedCSVList.append([rowList[0], rowList[1], rowList[2], rowList[3], rowList[4], rowList[5], rowList[6], rowList[7], rowList[8].strip(), totalPopulation, peoplePerHealthCentre, perSc, perScCovered, perSt, perStCovered, perGen, perGenCovered])\n",
    "\n",
    "\t#print(addedCSVList)\n",
    "\n",
    "\twith open('../data/AddedAttributesMerged.csv', 'w') as merged:\n",
    "\t\twriter = csv.writer(merged)\n",
    "\t\twriter.writerows(addedCSVList)\n",
    ""
   ]
  },
  {
   "cell_type": "code",
   "execution_count": null,
   "metadata": {},
   "outputs": [],
   "source": []
  }
 ],
 "metadata": {
  "kernelspec": {
   "display_name": "Python 3",
   "language": "python",
   "name": "python3"
  },
  "language_info": {
   "codemirror_mode": {
    "name": "ipython",
    "version": 3
   },
   "file_extension": ".py",
   "mimetype": "text/x-python",
   "name": "python",
   "nbconvert_exporter": "python",
   "pygments_lexer": "ipython3",
   "version": "3.7.4-final"
  }
 },
 "nbformat": 4,
 "nbformat_minor": 4
}