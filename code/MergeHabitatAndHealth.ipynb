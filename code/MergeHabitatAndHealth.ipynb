{
 "cells": [
  {
   "cell_type": "markdown",
   "metadata": {},
   "source": [
    "### This  notebook merges the two preprocessed datasets - *Habitation* and  *HealthCare*."
   ]
  },
  {
   "cell_type": "markdown",
   "metadata": {},
   "source": [
    "The two datasets are merged on the basis of *District Name*."
   ]
  },
  {
   "cell_type": "markdown",
   "metadata": {},
   "source": [
    "We start by importing the necessary package - csv, for us to use csv.writer to write our merged dataset into a csv file."
   ]
  },
  {
   "cell_type": "code",
   "execution_count": 1,
   "metadata": {},
   "outputs": [],
   "source": [
    "import csv"
   ]
  },
  {
   "cell_type": "markdown",
   "metadata": {},
   "source": [
    "Storing the list of rows of the preprocessed *HealthCare* dataset into `healthCareReducedList`, and that of *Habitation* dataset into `habitationReducedList`"
   ]
  },
  {
   "cell_type": "code",
   "execution_count": 2,
   "metadata": {},
   "outputs": [],
   "source": [
    "with open('../data/healthCleanReduced.csv', 'r') as healthCareReducedCSV:\n",
    "\thealthCareReducedList = list(healthCareReducedCSV)\n",
    "with open('../data/habitation_reduced.csv', 'r') as habitationReduced:\n",
    "\thabitationReducedList = list(habitationReduced)"
   ]
  },
  {
   "cell_type": "markdown",
   "metadata": {},
   "source": [
    "Iterating through the rows in the *Habitation* dataset and storing the *district name* as the `key` and *index of the district* as the `value` in the *dictionary* `dicstrictSetInHabitation`.\n",
    "The purpose of using a dictionary is to ensure an average constant time lookup data structure."
   ]
  },
  {
   "cell_type": "code",
   "execution_count": 12,
   "metadata": {},
   "outputs": [],
   "source": [
    "districtSetInHabitation = dict() # dictionary to store the district name as the key and index as the value\n",
    "headingRow = True\n",
    "indexInHabitation = 1\n",
    "for rowHabitation in habitationReducedList:\n",
    "    #skip the first row\n",
    "\tif headingRow:\n",
    "\t\theadingRow = False\n",
    "\t\tcontinue\n",
    "\trowList = rowHabitation.split(\",\") # list of elements in a row\n",
    "\tdistrictSetInHabitation[rowList[1].upper().strip()] = indexInHabitation # adding the key and value in the dictionary\n",
    "\tindexInHabitation += 1"
   ]
  },
  {
   "cell_type": "markdown",
   "metadata": {},
   "source": [
    "Iterating through the rows in the *HealthCare* dataset and storing the *district name* as the `key` and the list of relevant information - *the number of respective healthcare centres* as `value`."
   ]
  },
  {
   "cell_type": "code",
   "execution_count": 11,
   "metadata": {},
   "outputs": [],
   "source": [
    "districtSetInHealth = dict([]) # dictionary to store the district name as the key and the list of respective health centres as value\n",
    "headingRow = True\n",
    "for rowHealth in healthCareReducedList:\n",
    "    #skip the first row\n",
    "\tif headingRow:\n",
    "\t\theadingRow = False\n",
    "\t\tcontinue\n",
    "\trowList = rowHealth.split(\",\") # list of elements in a row\n",
    "    # adding the key and value in the dictionary\n",
    "\tdistrictSetInHealth[rowList[1].upper().strip()] = rowList[2] + \",\" + rowList[3] + \",\" + rowList[4] + \",\" + rowList[5] + \",\" + rowList[6]"
   ]
  },
  {
   "cell_type": "markdown",
   "metadata": {},
   "source": [
    "Initializing a new list `reducedCSVList` with the heading names to contain the merged data."
   ]
  },
  {
   "cell_type": "code",
   "execution_count": 6,
   "metadata": {},
   "outputs": [],
   "source": [
    "reducedCSVList = []\n",
    "reducedCSVList.append(['State', 'District', 'SC Current', 'ST Current', 'General Current', 'SC Covered', 'ST Covered', 'General Covered', 'Number of Sub Centres', 'Number of Primary Health Centres', 'Number of Community Health Centres', 'Sub Divisional Hospitals', 'District Hospitals'])"
   ]
  },
  {
   "cell_type": "markdown",
   "metadata": {},
   "source": [
    "Implementation of the merging algorithm :\n",
    "Iterate through the set of districts in `districtSetInHabitation`.\n",
    "For each district, check if it exists in `districtSetInHealth`. If it does exist, merge the value list (the value of the dictionary `districtSetInHealth`) at the end of the list described by the index which is the value of `districtSetInHabitation`."
   ]
  },
  {
   "cell_type": "code",
   "execution_count": 13,
   "metadata": {},
   "outputs": [],
   "source": [
    "for districtHabitat in districtSetInHabitation:\n",
    "\tif(districtHabitat in districtSetInHealth):\n",
    "\t\ttempList = habitationReducedList[districtSetInHabitation[districtHabitat]].split(\",\")\n",
    "\t\ttempValue = districtSetInHealth[districtHabitat].strip().split(\",\")\n",
    "\t\treducedCSVList.append([tempList[0], tempList[1], tempList[2], tempList[3], tempList[4], tempList[5], tempList[6], tempList[7].strip(), tempValue[0], tempValue[1], tempValue[2], tempValue[3], tempValue[4]])"
   ]
  },
  {
   "cell_type": "markdown",
   "metadata": {},
   "source": [
    "Writing the merged list into a *.csv* file - *healthAndHabitationMerged.csv*"
   ]
  },
  {
   "cell_type": "code",
   "execution_count": 14,
   "metadata": {},
   "outputs": [],
   "source": [
    "with open('../data/healthAndHabitatMerged.csv', 'w') as merged:\n",
    "\t\twriter = csv.writer(merged)\n",
    "\t\twriter.writerows(reducedCSVList)"
   ]
  }
 ],
 "metadata": {
  "kernelspec": {
   "display_name": "Python 3",
   "language": "python",
   "name": "python3"
  },
  "language_info": {
   "codemirror_mode": {
    "name": "ipython",
    "version": 3
   },
   "file_extension": ".py",
   "mimetype": "text/x-python",
   "name": "python",
   "nbconvert_exporter": "python",
   "pygments_lexer": "ipython3",
   "version": "3.7.6"
  }
 },
 "nbformat": 4,
 "nbformat_minor": 4
}
